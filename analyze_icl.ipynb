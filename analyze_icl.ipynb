{
 "cells": [
  {
   "cell_type": "code",
   "execution_count": 75,
   "id": "be75dc39",
   "metadata": {},
   "outputs": [],
   "source": [
    "import re\n",
    "import pandas as pd\n",
    "\n",
    "with open(f\"results.tsv\", \"w\") as fn:\n",
    "    fn.write('model\\ttask\\tnum_fewshot\\tacc\\n')\n",
    "    \n",
    "    for model in ['gptj', 'opt', 'cerebras']:\n",
    "        with open(f'examples/llm/icl_eval/{model}_results.txt', 'r') as f:\n",
    "            lines = f.readlines()\n",
    "        \n",
    "        results = {}\n",
    "        for line in lines:\n",
    "            match = re.findall('metrics\\/([a-z_]+)\\/(\\d+)-shot(\\/[a-z_]+)?\\/InContextLearning(?:LM|QA|MultipleChoice)Accuracy: (\\d\\.\\d+)',\n",
    "                line)\n",
    "            \n",
    "            if len(match) == 0:\n",
    "                continue\n",
    "            base_metric, fewshot, submetric, accuracy = match[0]\n",
    "            accuracy = float(accuracy)\n",
    "            if base_metric not in results:\n",
    "                results[base_metric] = {}\n",
    "\n",
    "            if fewshot not in results[base_metric]:\n",
    "                results[base_metric][fewshot] = []\n",
    "\n",
    "            results[base_metric][fewshot].append(accuracy)\n",
    "\n",
    "        for task in results:\n",
    "            for num in results[task]:\n",
    "                results[task][num] = sum(results[task][num]) / len(results[task][num])\n",
    "        for shot in ['0', '1', '5', '10']:\n",
    "            for task in results:\n",
    "                if shot in results[task]:\n",
    "                    fn.write(f\"{model}\\t{task}\\t{results[task][shot]}\\t{shot}\\n\")\n",
    "\n"
   ]
  },
  {
   "cell_type": "code",
   "execution_count": null,
   "id": "6dad4d3e",
   "metadata": {},
   "outputs": [],
   "source": []
  },
  {
   "cell_type": "code",
   "execution_count": 11,
   "id": "6cf5545f",
   "metadata": {},
   "outputs": [],
   "source": []
  },
  {
   "cell_type": "code",
   "execution_count": 12,
   "id": "74997a8b",
   "metadata": {},
   "outputs": [
    {
     "data": {
      "text/plain": [
       "'lambada_openai'"
      ]
     },
     "execution_count": 12,
     "metadata": {},
     "output_type": "execute_result"
    }
   ],
   "source": []
  },
  {
   "cell_type": "code",
   "execution_count": 13,
   "id": "af37d635",
   "metadata": {},
   "outputs": [
    {
     "data": {
      "text/plain": [
       "'0'"
      ]
     },
     "execution_count": 13,
     "metadata": {},
     "output_type": "execute_result"
    }
   ],
   "source": []
  },
  {
   "cell_type": "code",
   "execution_count": 14,
   "id": "ecf9bfdd",
   "metadata": {},
   "outputs": [
    {
     "data": {
      "text/plain": [
       "'0.6767441630363464'"
      ]
     },
     "execution_count": 14,
     "metadata": {},
     "output_type": "execute_result"
    }
   ],
   "source": []
  },
  {
   "cell_type": "code",
   "execution_count": 48,
   "id": "294ba395",
   "metadata": {},
   "outputs": [],
   "source": []
  },
  {
   "cell_type": "code",
   "execution_count": 51,
   "id": "515893ca",
   "metadata": {},
   "outputs": [],
   "source": []
  },
  {
   "cell_type": "code",
   "execution_count": null,
   "id": "3f803541",
   "metadata": {},
   "outputs": [],
   "source": []
  },
  {
   "cell_type": "code",
   "execution_count": 53,
   "id": "64e00ead",
   "metadata": {},
   "outputs": [],
   "source": []
  },
  {
   "cell_type": "code",
   "execution_count": 58,
   "id": "356f81cb",
   "metadata": {},
   "outputs": [],
   "source": []
  },
  {
   "cell_type": "code",
   "execution_count": null,
   "id": "362ed2da",
   "metadata": {},
   "outputs": [],
   "source": []
  }
 ],
 "metadata": {
  "kernelspec": {
   "display_name": "Python 3 (ipykernel)",
   "language": "python",
   "name": "python3"
  },
  "language_info": {
   "codemirror_mode": {
    "name": "ipython",
    "version": 3
   },
   "file_extension": ".py",
   "mimetype": "text/x-python",
   "name": "python",
   "nbconvert_exporter": "python",
   "pygments_lexer": "ipython3",
   "version": "3.10.8"
  }
 },
 "nbformat": 4,
 "nbformat_minor": 5
}
