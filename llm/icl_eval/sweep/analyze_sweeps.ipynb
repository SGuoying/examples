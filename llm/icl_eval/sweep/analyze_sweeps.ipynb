{
 "cells": [
  {
   "cell_type": "code",
   "execution_count": 126,
   "id": "d4a87034",
   "metadata": {},
   "outputs": [],
   "source": [
    "import pandas as pd\n",
    "import seaborn as sns\n",
    "import matplotlib.pyplot as plt\n",
    "\n",
    "import itertools"
   ]
  },
  {
   "cell_type": "code",
   "execution_count": 127,
   "id": "af49f6f0",
   "metadata": {},
   "outputs": [],
   "source": [
    "with open('eleuther_eval_jobs.tsv', 'r') as f:\n",
    "    df1 = pd.read_csv(f, sep='\\t', index_col=None)\n",
    "\n",
    "df1['eval_method'] = 'eleuther'\n",
    "with open('composer_eval_jobs.tsv', 'r') as f:\n",
    "    df2 = pd.read_csv(f, sep='\\t', index_col=None)\n",
    "\n",
    "df2['eval_method'] = 'composer'\n",
    "\n",
    "df = pd.concat([df1, df2])"
   ]
  },
  {
   "cell_type": "code",
   "execution_count": 128,
   "id": "fd436d0f",
   "metadata": {},
   "outputs": [],
   "source": [
    "df = df.dropna()\n",
    "graph_partition_cols = ['eval_method', 'parameters-icl_tasks', ] # diff values will be on diff graphs\n",
    "line_partition_cols = ['parameters-model'] # diff values will be diff lines\n",
    "\n",
    "graph_partition_vals = {\n",
    "    k: set(df[k]) for k in graph_partition_cols\n",
    "}\n",
    "line_partition_vals = {\n",
    "    k: set(df[k]) for k in line_partition_cols\n",
    "}\n",
    "x_col = 'gpu_num'\n",
    "y_col = 'run_time'"
   ]
  },
  {
   "cell_type": "code",
   "execution_count": 129,
   "id": "08745546",
   "metadata": {},
   "outputs": [],
   "source": [
    "def partition_graphs(df, graph_partition_vals):\n",
    "    keys, vals = graph_partition_vals.keys(), graph_partition_vals.values()\n",
    "    \n",
    "    dataset_graph_partitions = []\n",
    "    for combo in itertools.product(*vals):\n",
    "        filter_string = \"\"\n",
    "        \n",
    "        df_part = {}\n",
    "        df_part['choices'] = {}\n",
    "        \n",
    "        for col_name, col_val in zip(keys, combo):\n",
    "            filter_string += f\"`{col_name}` == '{col_val}' and\"\n",
    "            df_part['choices'][col_name] = col_val\n",
    "            \n",
    "        filter_string = filter_string[:-4]\n",
    "        df_subset = df.query(filter_string)\n",
    "        df_part['df'] = df_subset\n",
    "        dataset_graph_partitions.append(df_part)\n",
    "    \n",
    "    return dataset_graph_partitions\n",
    "\n",
    "\n",
    "\n",
    "graph_partitions = partition_graphs(df, graph_partition_vals)"
   ]
  },
  {
   "cell_type": "code",
   "execution_count": 130,
   "id": "2d8cfa18",
   "metadata": {},
   "outputs": [
    {
     "name": "stdout",
     "output_type": "stream",
     "text": [
      "{'eval_method': 'composer', 'parameters-icl_tasks': 'lambada'}\n",
      "{'eval_method': 'composer', 'parameters-icl_tasks': 'piqa'}\n",
      "{'eval_method': 'eleuther', 'parameters-icl_tasks': 'lambada'}\n",
      "{'eval_method': 'eleuther', 'parameters-icl_tasks': 'piqa'}\n"
     ]
    },
    {
     "data": {
      "text/plain": [
       "<Figure size 640x480 with 0 Axes>"
      ]
     },
     "metadata": {},
     "output_type": "display_data"
    }
   ],
   "source": [
    "def partition_lines(df, line_partition_vals):\n",
    "    keys, vals = line_partition_vals.keys(), line_partition_vals.values()\n",
    "    dataset_line_partitions = []\n",
    "    for combo in itertools.product(*vals):\n",
    "        filter_string = \"\"\n",
    "        \n",
    "        df_part = {}\n",
    "        df_part['choices'] = {}\n",
    "        \n",
    "        for col_name, col_val in zip(keys, combo):\n",
    "            filter_string += f\"`{col_name}` == '{col_val}' and\"\n",
    "            df_part['choices'][col_name] = col_val\n",
    "            \n",
    "        filter_string = filter_string[:-4]\n",
    "        df_subset = df.query(filter_string)\n",
    "        df_part['df'] = df_subset\n",
    "        dataset_line_partitions.append(df_part)\n",
    "    return dataset_line_partitions \n",
    "\n",
    "def make_title(choices):\n",
    "    return f\"{choices['eval_method']}-based eval, {choices['parameters-icl_tasks'].upper()}\"\n",
    "\n",
    "\n",
    "for idx, graph_info in enumerate(graph_partitions):\n",
    "    choices = graph_info['choices']\n",
    "    print(choices)\n",
    "    line_partitions = partition_lines(graph_info['df'], line_partition_vals)\n",
    "    legend = []\n",
    "    for line in line_partitions:\n",
    "        legend.append(', '.join(line['choices'].values()))\n",
    "        plt.plot(line['df'][x_col],line['df'][y_col])\n",
    "    \n",
    "    \n",
    "    plt.legend(legend)\n",
    "\n",
    "\n",
    "    plt.title(make_title(choices))\n",
    "    plt.xlabel('Number of GPUs')\n",
    "    plt.ylabel('Run time (seconds)')\n",
    "    plt.savefig(f\"fig{idx}.png\", )\n",
    "    plt.clf()\n"
   ]
  },
  {
   "cell_type": "code",
   "execution_count": null,
   "id": "0ec99b50",
   "metadata": {},
   "outputs": [],
   "source": []
  },
  {
   "cell_type": "code",
   "execution_count": null,
   "id": "2d940d3e",
   "metadata": {},
   "outputs": [],
   "source": []
  }
 ],
 "metadata": {
  "kernelspec": {
   "display_name": "Python 3 (ipykernel)",
   "language": "python",
   "name": "python3"
  },
  "language_info": {
   "codemirror_mode": {
    "name": "ipython",
    "version": 3
   },
   "file_extension": ".py",
   "mimetype": "text/x-python",
   "name": "python",
   "nbconvert_exporter": "python",
   "pygments_lexer": "ipython3",
   "version": "3.9.6"
  }
 },
 "nbformat": 4,
 "nbformat_minor": 5
}
